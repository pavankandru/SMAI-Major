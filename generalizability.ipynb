{
  "nbformat": 4,
  "nbformat_minor": 0,
  "metadata": {
    "accelerator": "GPU",
    "colab": {
      "name": "generalizability.ipynb",
      "provenance": [],
      "collapsed_sections": []
    },
    "kernelspec": {
      "display_name": "Python 3",
      "name": "python3"
    },
    "language_info": {
      "name": "python"
    },
    "widgets": {
      "application/vnd.jupyter.widget-state+json": {
        "c64561abb3604cec9bdafba4f1966906": {
          "model_module": "@jupyter-widgets/controls",
          "model_name": "HBoxModel",
          "model_module_version": "1.5.0",
          "state": {
            "_view_name": "HBoxView",
            "_dom_classes": [],
            "_model_name": "HBoxModel",
            "_view_module": "@jupyter-widgets/controls",
            "_model_module_version": "1.5.0",
            "_view_count": null,
            "_view_module_version": "1.5.0",
            "box_style": "",
            "layout": "IPY_MODEL_5d592c7561644f22a7229571d528ff93",
            "_model_module": "@jupyter-widgets/controls",
            "children": [
              "IPY_MODEL_4eaae6224bed437e8a8b1e03b1394420",
              "IPY_MODEL_978dc8bfdc2541d683ddd336977d2586",
              "IPY_MODEL_9e26a648933645e0a1d2a8fdb38cf6fe"
            ]
          }
        },
        "5d592c7561644f22a7229571d528ff93": {
          "model_module": "@jupyter-widgets/base",
          "model_name": "LayoutModel",
          "model_module_version": "1.2.0",
          "state": {
            "_view_name": "LayoutView",
            "grid_template_rows": null,
            "right": null,
            "justify_content": null,
            "_view_module": "@jupyter-widgets/base",
            "overflow": null,
            "_model_module_version": "1.2.0",
            "_view_count": null,
            "flex_flow": null,
            "width": null,
            "min_width": null,
            "border": null,
            "align_items": null,
            "bottom": null,
            "_model_module": "@jupyter-widgets/base",
            "top": null,
            "grid_column": null,
            "overflow_y": null,
            "overflow_x": null,
            "grid_auto_flow": null,
            "grid_area": null,
            "grid_template_columns": null,
            "flex": null,
            "_model_name": "LayoutModel",
            "justify_items": null,
            "grid_row": null,
            "max_height": null,
            "align_content": null,
            "visibility": null,
            "align_self": null,
            "height": null,
            "min_height": null,
            "padding": null,
            "grid_auto_rows": null,
            "grid_gap": null,
            "max_width": null,
            "order": null,
            "_view_module_version": "1.2.0",
            "grid_template_areas": null,
            "object_position": null,
            "object_fit": null,
            "grid_auto_columns": null,
            "margin": null,
            "display": null,
            "left": null
          }
        },
        "4eaae6224bed437e8a8b1e03b1394420": {
          "model_module": "@jupyter-widgets/controls",
          "model_name": "HTMLModel",
          "model_module_version": "1.5.0",
          "state": {
            "_view_name": "HTMLView",
            "style": "IPY_MODEL_0671c1c5a7884275a088fcd53ca9386f",
            "_dom_classes": [],
            "description": "",
            "_model_name": "HTMLModel",
            "placeholder": "​",
            "_view_module": "@jupyter-widgets/controls",
            "_model_module_version": "1.5.0",
            "value": "",
            "_view_count": null,
            "_view_module_version": "1.5.0",
            "description_tooltip": null,
            "_model_module": "@jupyter-widgets/controls",
            "layout": "IPY_MODEL_5a69f984eb0946c3bb0e380185c12f3c"
          }
        },
        "978dc8bfdc2541d683ddd336977d2586": {
          "model_module": "@jupyter-widgets/controls",
          "model_name": "FloatProgressModel",
          "model_module_version": "1.5.0",
          "state": {
            "_view_name": "ProgressView",
            "style": "IPY_MODEL_979e81af8f3b43a196f0271aff676338",
            "_dom_classes": [],
            "description": "",
            "_model_name": "FloatProgressModel",
            "bar_style": "success",
            "max": 1999639040,
            "_view_module": "@jupyter-widgets/controls",
            "_model_module_version": "1.5.0",
            "value": 1999639040,
            "_view_count": null,
            "_view_module_version": "1.5.0",
            "orientation": "horizontal",
            "min": 0,
            "description_tooltip": null,
            "_model_module": "@jupyter-widgets/controls",
            "layout": "IPY_MODEL_3d6e2486c9f04faf9b97a037b177ce8b"
          }
        },
        "9e26a648933645e0a1d2a8fdb38cf6fe": {
          "model_module": "@jupyter-widgets/controls",
          "model_name": "HTMLModel",
          "model_module_version": "1.5.0",
          "state": {
            "_view_name": "HTMLView",
            "style": "IPY_MODEL_dcddc67842ac4842a9e2f0091aae8549",
            "_dom_classes": [],
            "description": "",
            "_model_name": "HTMLModel",
            "placeholder": "​",
            "_view_module": "@jupyter-widgets/controls",
            "_model_module_version": "1.5.0",
            "value": " 1999639552/? [01:14&lt;00:00, 28335587.56it/s]",
            "_view_count": null,
            "_view_module_version": "1.5.0",
            "description_tooltip": null,
            "_model_module": "@jupyter-widgets/controls",
            "layout": "IPY_MODEL_76ee512c071640a79e3498f669933211"
          }
        },
        "0671c1c5a7884275a088fcd53ca9386f": {
          "model_module": "@jupyter-widgets/controls",
          "model_name": "DescriptionStyleModel",
          "model_module_version": "1.5.0",
          "state": {
            "_view_name": "StyleView",
            "_model_name": "DescriptionStyleModel",
            "description_width": "",
            "_view_module": "@jupyter-widgets/base",
            "_model_module_version": "1.5.0",
            "_view_count": null,
            "_view_module_version": "1.2.0",
            "_model_module": "@jupyter-widgets/controls"
          }
        },
        "5a69f984eb0946c3bb0e380185c12f3c": {
          "model_module": "@jupyter-widgets/base",
          "model_name": "LayoutModel",
          "model_module_version": "1.2.0",
          "state": {
            "_view_name": "LayoutView",
            "grid_template_rows": null,
            "right": null,
            "justify_content": null,
            "_view_module": "@jupyter-widgets/base",
            "overflow": null,
            "_model_module_version": "1.2.0",
            "_view_count": null,
            "flex_flow": null,
            "width": null,
            "min_width": null,
            "border": null,
            "align_items": null,
            "bottom": null,
            "_model_module": "@jupyter-widgets/base",
            "top": null,
            "grid_column": null,
            "overflow_y": null,
            "overflow_x": null,
            "grid_auto_flow": null,
            "grid_area": null,
            "grid_template_columns": null,
            "flex": null,
            "_model_name": "LayoutModel",
            "justify_items": null,
            "grid_row": null,
            "max_height": null,
            "align_content": null,
            "visibility": null,
            "align_self": null,
            "height": null,
            "min_height": null,
            "padding": null,
            "grid_auto_rows": null,
            "grid_gap": null,
            "max_width": null,
            "order": null,
            "_view_module_version": "1.2.0",
            "grid_template_areas": null,
            "object_position": null,
            "object_fit": null,
            "grid_auto_columns": null,
            "margin": null,
            "display": null,
            "left": null
          }
        },
        "979e81af8f3b43a196f0271aff676338": {
          "model_module": "@jupyter-widgets/controls",
          "model_name": "ProgressStyleModel",
          "model_module_version": "1.5.0",
          "state": {
            "_view_name": "StyleView",
            "_model_name": "ProgressStyleModel",
            "description_width": "",
            "_view_module": "@jupyter-widgets/base",
            "_model_module_version": "1.5.0",
            "_view_count": null,
            "_view_module_version": "1.2.0",
            "bar_color": null,
            "_model_module": "@jupyter-widgets/controls"
          }
        },
        "3d6e2486c9f04faf9b97a037b177ce8b": {
          "model_module": "@jupyter-widgets/base",
          "model_name": "LayoutModel",
          "model_module_version": "1.2.0",
          "state": {
            "_view_name": "LayoutView",
            "grid_template_rows": null,
            "right": null,
            "justify_content": null,
            "_view_module": "@jupyter-widgets/base",
            "overflow": null,
            "_model_module_version": "1.2.0",
            "_view_count": null,
            "flex_flow": null,
            "width": null,
            "min_width": null,
            "border": null,
            "align_items": null,
            "bottom": null,
            "_model_module": "@jupyter-widgets/base",
            "top": null,
            "grid_column": null,
            "overflow_y": null,
            "overflow_x": null,
            "grid_auto_flow": null,
            "grid_area": null,
            "grid_template_columns": null,
            "flex": null,
            "_model_name": "LayoutModel",
            "justify_items": null,
            "grid_row": null,
            "max_height": null,
            "align_content": null,
            "visibility": null,
            "align_self": null,
            "height": null,
            "min_height": null,
            "padding": null,
            "grid_auto_rows": null,
            "grid_gap": null,
            "max_width": null,
            "order": null,
            "_view_module_version": "1.2.0",
            "grid_template_areas": null,
            "object_position": null,
            "object_fit": null,
            "grid_auto_columns": null,
            "margin": null,
            "display": null,
            "left": null
          }
        },
        "dcddc67842ac4842a9e2f0091aae8549": {
          "model_module": "@jupyter-widgets/controls",
          "model_name": "DescriptionStyleModel",
          "model_module_version": "1.5.0",
          "state": {
            "_view_name": "StyleView",
            "_model_name": "DescriptionStyleModel",
            "description_width": "",
            "_view_module": "@jupyter-widgets/base",
            "_model_module_version": "1.5.0",
            "_view_count": null,
            "_view_module_version": "1.2.0",
            "_model_module": "@jupyter-widgets/controls"
          }
        },
        "76ee512c071640a79e3498f669933211": {
          "model_module": "@jupyter-widgets/base",
          "model_name": "LayoutModel",
          "model_module_version": "1.2.0",
          "state": {
            "_view_name": "LayoutView",
            "grid_template_rows": null,
            "right": null,
            "justify_content": null,
            "_view_module": "@jupyter-widgets/base",
            "overflow": null,
            "_model_module_version": "1.2.0",
            "_view_count": null,
            "flex_flow": null,
            "width": null,
            "min_width": null,
            "border": null,
            "align_items": null,
            "bottom": null,
            "_model_module": "@jupyter-widgets/base",
            "top": null,
            "grid_column": null,
            "overflow_y": null,
            "overflow_x": null,
            "grid_auto_flow": null,
            "grid_area": null,
            "grid_template_columns": null,
            "flex": null,
            "_model_name": "LayoutModel",
            "justify_items": null,
            "grid_row": null,
            "max_height": null,
            "align_content": null,
            "visibility": null,
            "align_self": null,
            "height": null,
            "min_height": null,
            "padding": null,
            "grid_auto_rows": null,
            "grid_gap": null,
            "max_width": null,
            "order": null,
            "_view_module_version": "1.2.0",
            "grid_template_areas": null,
            "object_position": null,
            "object_fit": null,
            "grid_auto_columns": null,
            "margin": null,
            "display": null,
            "left": null
          }
        },
        "6de3fabb300b4f4793efd6b8eeef861f": {
          "model_module": "@jupyter-widgets/controls",
          "model_name": "HBoxModel",
          "model_module_version": "1.5.0",
          "state": {
            "_view_name": "HBoxView",
            "_dom_classes": [],
            "_model_name": "HBoxModel",
            "_view_module": "@jupyter-widgets/controls",
            "_model_module_version": "1.5.0",
            "_view_count": null,
            "_view_module_version": "1.5.0",
            "box_style": "",
            "layout": "IPY_MODEL_1eda38ec07a741c48fbbdc811b33e590",
            "_model_module": "@jupyter-widgets/controls",
            "children": [
              "IPY_MODEL_0b1834fa3fc14913a58807dd0c4a2800",
              "IPY_MODEL_2ebbe409727b47d5991f92b11a621a6d",
              "IPY_MODEL_dc423e9873814d8a98963aa467ee7c00"
            ]
          }
        },
        "1eda38ec07a741c48fbbdc811b33e590": {
          "model_module": "@jupyter-widgets/base",
          "model_name": "LayoutModel",
          "model_module_version": "1.2.0",
          "state": {
            "_view_name": "LayoutView",
            "grid_template_rows": null,
            "right": null,
            "justify_content": null,
            "_view_module": "@jupyter-widgets/base",
            "overflow": null,
            "_model_module_version": "1.2.0",
            "_view_count": null,
            "flex_flow": null,
            "width": null,
            "min_width": null,
            "border": null,
            "align_items": null,
            "bottom": null,
            "_model_module": "@jupyter-widgets/base",
            "top": null,
            "grid_column": null,
            "overflow_y": null,
            "overflow_x": null,
            "grid_auto_flow": null,
            "grid_area": null,
            "grid_template_columns": null,
            "flex": null,
            "_model_name": "LayoutModel",
            "justify_items": null,
            "grid_row": null,
            "max_height": null,
            "align_content": null,
            "visibility": null,
            "align_self": null,
            "height": null,
            "min_height": null,
            "padding": null,
            "grid_auto_rows": null,
            "grid_gap": null,
            "max_width": null,
            "order": null,
            "_view_module_version": "1.2.0",
            "grid_template_areas": null,
            "object_position": null,
            "object_fit": null,
            "grid_auto_columns": null,
            "margin": null,
            "display": null,
            "left": null
          }
        },
        "0b1834fa3fc14913a58807dd0c4a2800": {
          "model_module": "@jupyter-widgets/controls",
          "model_name": "HTMLModel",
          "model_module_version": "1.5.0",
          "state": {
            "_view_name": "HTMLView",
            "style": "IPY_MODEL_29e7db01134c48529505a7e0c8f3c235",
            "_dom_classes": [],
            "description": "",
            "_model_name": "HTMLModel",
            "placeholder": "​",
            "_view_module": "@jupyter-widgets/controls",
            "_model_module_version": "1.5.0",
            "value": "100%",
            "_view_count": null,
            "_view_module_version": "1.5.0",
            "description_tooltip": null,
            "_model_module": "@jupyter-widgets/controls",
            "layout": "IPY_MODEL_4aa6c3e15bd84171a547b294531ed9d8"
          }
        },
        "2ebbe409727b47d5991f92b11a621a6d": {
          "model_module": "@jupyter-widgets/controls",
          "model_name": "FloatProgressModel",
          "model_module_version": "1.5.0",
          "state": {
            "_view_name": "ProgressView",
            "style": "IPY_MODEL_e0b9ea17b1114c6e94d62f301c2f2b2d",
            "_dom_classes": [],
            "description": "",
            "_model_name": "FloatProgressModel",
            "bar_style": "success",
            "max": 553433881,
            "_view_module": "@jupyter-widgets/controls",
            "_model_module_version": "1.5.0",
            "value": 553433881,
            "_view_count": null,
            "_view_module_version": "1.5.0",
            "orientation": "horizontal",
            "min": 0,
            "description_tooltip": null,
            "_model_module": "@jupyter-widgets/controls",
            "layout": "IPY_MODEL_fef0738cb8c9482996daf1f148daba37"
          }
        },
        "dc423e9873814d8a98963aa467ee7c00": {
          "model_module": "@jupyter-widgets/controls",
          "model_name": "HTMLModel",
          "model_module_version": "1.5.0",
          "state": {
            "_view_name": "HTMLView",
            "style": "IPY_MODEL_16ae5ecc078e43fba3174e0b9660382e",
            "_dom_classes": [],
            "description": "",
            "_model_name": "HTMLModel",
            "placeholder": "​",
            "_view_module": "@jupyter-widgets/controls",
            "_model_module_version": "1.5.0",
            "value": " 528M/528M [00:05&lt;00:00, 102MB/s]",
            "_view_count": null,
            "_view_module_version": "1.5.0",
            "description_tooltip": null,
            "_model_module": "@jupyter-widgets/controls",
            "layout": "IPY_MODEL_d29c7e3fe9694471bf6bd5f738853384"
          }
        },
        "29e7db01134c48529505a7e0c8f3c235": {
          "model_module": "@jupyter-widgets/controls",
          "model_name": "DescriptionStyleModel",
          "model_module_version": "1.5.0",
          "state": {
            "_view_name": "StyleView",
            "_model_name": "DescriptionStyleModel",
            "description_width": "",
            "_view_module": "@jupyter-widgets/base",
            "_model_module_version": "1.5.0",
            "_view_count": null,
            "_view_module_version": "1.2.0",
            "_model_module": "@jupyter-widgets/controls"
          }
        },
        "4aa6c3e15bd84171a547b294531ed9d8": {
          "model_module": "@jupyter-widgets/base",
          "model_name": "LayoutModel",
          "model_module_version": "1.2.0",
          "state": {
            "_view_name": "LayoutView",
            "grid_template_rows": null,
            "right": null,
            "justify_content": null,
            "_view_module": "@jupyter-widgets/base",
            "overflow": null,
            "_model_module_version": "1.2.0",
            "_view_count": null,
            "flex_flow": null,
            "width": null,
            "min_width": null,
            "border": null,
            "align_items": null,
            "bottom": null,
            "_model_module": "@jupyter-widgets/base",
            "top": null,
            "grid_column": null,
            "overflow_y": null,
            "overflow_x": null,
            "grid_auto_flow": null,
            "grid_area": null,
            "grid_template_columns": null,
            "flex": null,
            "_model_name": "LayoutModel",
            "justify_items": null,
            "grid_row": null,
            "max_height": null,
            "align_content": null,
            "visibility": null,
            "align_self": null,
            "height": null,
            "min_height": null,
            "padding": null,
            "grid_auto_rows": null,
            "grid_gap": null,
            "max_width": null,
            "order": null,
            "_view_module_version": "1.2.0",
            "grid_template_areas": null,
            "object_position": null,
            "object_fit": null,
            "grid_auto_columns": null,
            "margin": null,
            "display": null,
            "left": null
          }
        },
        "e0b9ea17b1114c6e94d62f301c2f2b2d": {
          "model_module": "@jupyter-widgets/controls",
          "model_name": "ProgressStyleModel",
          "model_module_version": "1.5.0",
          "state": {
            "_view_name": "StyleView",
            "_model_name": "ProgressStyleModel",
            "description_width": "",
            "_view_module": "@jupyter-widgets/base",
            "_model_module_version": "1.5.0",
            "_view_count": null,
            "_view_module_version": "1.2.0",
            "bar_color": null,
            "_model_module": "@jupyter-widgets/controls"
          }
        },
        "fef0738cb8c9482996daf1f148daba37": {
          "model_module": "@jupyter-widgets/base",
          "model_name": "LayoutModel",
          "model_module_version": "1.2.0",
          "state": {
            "_view_name": "LayoutView",
            "grid_template_rows": null,
            "right": null,
            "justify_content": null,
            "_view_module": "@jupyter-widgets/base",
            "overflow": null,
            "_model_module_version": "1.2.0",
            "_view_count": null,
            "flex_flow": null,
            "width": null,
            "min_width": null,
            "border": null,
            "align_items": null,
            "bottom": null,
            "_model_module": "@jupyter-widgets/base",
            "top": null,
            "grid_column": null,
            "overflow_y": null,
            "overflow_x": null,
            "grid_auto_flow": null,
            "grid_area": null,
            "grid_template_columns": null,
            "flex": null,
            "_model_name": "LayoutModel",
            "justify_items": null,
            "grid_row": null,
            "max_height": null,
            "align_content": null,
            "visibility": null,
            "align_self": null,
            "height": null,
            "min_height": null,
            "padding": null,
            "grid_auto_rows": null,
            "grid_gap": null,
            "max_width": null,
            "order": null,
            "_view_module_version": "1.2.0",
            "grid_template_areas": null,
            "object_position": null,
            "object_fit": null,
            "grid_auto_columns": null,
            "margin": null,
            "display": null,
            "left": null
          }
        },
        "16ae5ecc078e43fba3174e0b9660382e": {
          "model_module": "@jupyter-widgets/controls",
          "model_name": "DescriptionStyleModel",
          "model_module_version": "1.5.0",
          "state": {
            "_view_name": "StyleView",
            "_model_name": "DescriptionStyleModel",
            "description_width": "",
            "_view_module": "@jupyter-widgets/base",
            "_model_module_version": "1.5.0",
            "_view_count": null,
            "_view_module_version": "1.2.0",
            "_model_module": "@jupyter-widgets/controls"
          }
        },
        "d29c7e3fe9694471bf6bd5f738853384": {
          "model_module": "@jupyter-widgets/base",
          "model_name": "LayoutModel",
          "model_module_version": "1.2.0",
          "state": {
            "_view_name": "LayoutView",
            "grid_template_rows": null,
            "right": null,
            "justify_content": null,
            "_view_module": "@jupyter-widgets/base",
            "overflow": null,
            "_model_module_version": "1.2.0",
            "_view_count": null,
            "flex_flow": null,
            "width": null,
            "min_width": null,
            "border": null,
            "align_items": null,
            "bottom": null,
            "_model_module": "@jupyter-widgets/base",
            "top": null,
            "grid_column": null,
            "overflow_y": null,
            "overflow_x": null,
            "grid_auto_flow": null,
            "grid_area": null,
            "grid_template_columns": null,
            "flex": null,
            "_model_name": "LayoutModel",
            "justify_items": null,
            "grid_row": null,
            "max_height": null,
            "align_content": null,
            "visibility": null,
            "align_self": null,
            "height": null,
            "min_height": null,
            "padding": null,
            "grid_auto_rows": null,
            "grid_gap": null,
            "max_width": null,
            "order": null,
            "_view_module_version": "1.2.0",
            "grid_template_areas": null,
            "object_position": null,
            "object_fit": null,
            "grid_auto_columns": null,
            "margin": null,
            "display": null,
            "left": null
          }
        },
        "472b83eaeaef469c87b1a17ca28e1327": {
          "model_module": "@jupyter-widgets/controls",
          "model_name": "HBoxModel",
          "model_module_version": "1.5.0",
          "state": {
            "_view_name": "HBoxView",
            "_dom_classes": [],
            "_model_name": "HBoxModel",
            "_view_module": "@jupyter-widgets/controls",
            "_model_module_version": "1.5.0",
            "_view_count": null,
            "_view_module_version": "1.5.0",
            "box_style": "",
            "layout": "IPY_MODEL_aa8389ee6b16435a8801c5bafb9c49f3",
            "_model_module": "@jupyter-widgets/controls",
            "children": [
              "IPY_MODEL_718f3c9b740e465f9e5295a2074948a2",
              "IPY_MODEL_2078d5f74ad94580bed564b1eb943b1c",
              "IPY_MODEL_3f795c39e6684c59a841bdeee8e99e2e"
            ]
          }
        },
        "aa8389ee6b16435a8801c5bafb9c49f3": {
          "model_module": "@jupyter-widgets/base",
          "model_name": "LayoutModel",
          "model_module_version": "1.2.0",
          "state": {
            "_view_name": "LayoutView",
            "grid_template_rows": null,
            "right": null,
            "justify_content": null,
            "_view_module": "@jupyter-widgets/base",
            "overflow": null,
            "_model_module_version": "1.2.0",
            "_view_count": null,
            "flex_flow": null,
            "width": null,
            "min_width": null,
            "border": null,
            "align_items": null,
            "bottom": null,
            "_model_module": "@jupyter-widgets/base",
            "top": null,
            "grid_column": null,
            "overflow_y": null,
            "overflow_x": null,
            "grid_auto_flow": null,
            "grid_area": null,
            "grid_template_columns": null,
            "flex": null,
            "_model_name": "LayoutModel",
            "justify_items": null,
            "grid_row": null,
            "max_height": null,
            "align_content": null,
            "visibility": null,
            "align_self": null,
            "height": null,
            "min_height": null,
            "padding": null,
            "grid_auto_rows": null,
            "grid_gap": null,
            "max_width": null,
            "order": null,
            "_view_module_version": "1.2.0",
            "grid_template_areas": null,
            "object_position": null,
            "object_fit": null,
            "grid_auto_columns": null,
            "margin": null,
            "display": null,
            "left": null
          }
        },
        "718f3c9b740e465f9e5295a2074948a2": {
          "model_module": "@jupyter-widgets/controls",
          "model_name": "HTMLModel",
          "model_module_version": "1.5.0",
          "state": {
            "_view_name": "HTMLView",
            "style": "IPY_MODEL_8fabf4022de1469f98c977a78ca7e350",
            "_dom_classes": [],
            "description": "",
            "_model_name": "HTMLModel",
            "placeholder": "​",
            "_view_module": "@jupyter-widgets/controls",
            "_model_module_version": "1.5.0",
            "value": "100%",
            "_view_count": null,
            "_view_module_version": "1.5.0",
            "description_tooltip": null,
            "_model_module": "@jupyter-widgets/controls",
            "layout": "IPY_MODEL_c6851593260342a99fffd48418c4c0e1"
          }
        },
        "2078d5f74ad94580bed564b1eb943b1c": {
          "model_module": "@jupyter-widgets/controls",
          "model_name": "FloatProgressModel",
          "model_module_version": "1.5.0",
          "state": {
            "_view_name": "ProgressView",
            "style": "IPY_MODEL_344396ba1cff48f1800843ea39abd593",
            "_dom_classes": [],
            "description": "",
            "_model_name": "FloatProgressModel",
            "bar_style": "success",
            "max": 244408911,
            "_view_module": "@jupyter-widgets/controls",
            "_model_module_version": "1.5.0",
            "value": 244408911,
            "_view_count": null,
            "_view_module_version": "1.5.0",
            "orientation": "horizontal",
            "min": 0,
            "description_tooltip": null,
            "_model_module": "@jupyter-widgets/controls",
            "layout": "IPY_MODEL_1c9bca181ca146818a197d715e1baff1"
          }
        },
        "3f795c39e6684c59a841bdeee8e99e2e": {
          "model_module": "@jupyter-widgets/controls",
          "model_name": "HTMLModel",
          "model_module_version": "1.5.0",
          "state": {
            "_view_name": "HTMLView",
            "style": "IPY_MODEL_4c1aa522671648a4b0456eaf7dae47f3",
            "_dom_classes": [],
            "description": "",
            "_model_name": "HTMLModel",
            "placeholder": "​",
            "_view_module": "@jupyter-widgets/controls",
            "_model_module_version": "1.5.0",
            "value": " 233M/233M [00:03&lt;00:00, 67.6MB/s]",
            "_view_count": null,
            "_view_module_version": "1.5.0",
            "description_tooltip": null,
            "_model_module": "@jupyter-widgets/controls",
            "layout": "IPY_MODEL_95e2026e6675491f94f644357404bc9f"
          }
        },
        "8fabf4022de1469f98c977a78ca7e350": {
          "model_module": "@jupyter-widgets/controls",
          "model_name": "DescriptionStyleModel",
          "model_module_version": "1.5.0",
          "state": {
            "_view_name": "StyleView",
            "_model_name": "DescriptionStyleModel",
            "description_width": "",
            "_view_module": "@jupyter-widgets/base",
            "_model_module_version": "1.5.0",
            "_view_count": null,
            "_view_module_version": "1.2.0",
            "_model_module": "@jupyter-widgets/controls"
          }
        },
        "c6851593260342a99fffd48418c4c0e1": {
          "model_module": "@jupyter-widgets/base",
          "model_name": "LayoutModel",
          "model_module_version": "1.2.0",
          "state": {
            "_view_name": "LayoutView",
            "grid_template_rows": null,
            "right": null,
            "justify_content": null,
            "_view_module": "@jupyter-widgets/base",
            "overflow": null,
            "_model_module_version": "1.2.0",
            "_view_count": null,
            "flex_flow": null,
            "width": null,
            "min_width": null,
            "border": null,
            "align_items": null,
            "bottom": null,
            "_model_module": "@jupyter-widgets/base",
            "top": null,
            "grid_column": null,
            "overflow_y": null,
            "overflow_x": null,
            "grid_auto_flow": null,
            "grid_area": null,
            "grid_template_columns": null,
            "flex": null,
            "_model_name": "LayoutModel",
            "justify_items": null,
            "grid_row": null,
            "max_height": null,
            "align_content": null,
            "visibility": null,
            "align_self": null,
            "height": null,
            "min_height": null,
            "padding": null,
            "grid_auto_rows": null,
            "grid_gap": null,
            "max_width": null,
            "order": null,
            "_view_module_version": "1.2.0",
            "grid_template_areas": null,
            "object_position": null,
            "object_fit": null,
            "grid_auto_columns": null,
            "margin": null,
            "display": null,
            "left": null
          }
        },
        "344396ba1cff48f1800843ea39abd593": {
          "model_module": "@jupyter-widgets/controls",
          "model_name": "ProgressStyleModel",
          "model_module_version": "1.5.0",
          "state": {
            "_view_name": "StyleView",
            "_model_name": "ProgressStyleModel",
            "description_width": "",
            "_view_module": "@jupyter-widgets/base",
            "_model_module_version": "1.5.0",
            "_view_count": null,
            "_view_module_version": "1.2.0",
            "bar_color": null,
            "_model_module": "@jupyter-widgets/controls"
          }
        },
        "1c9bca181ca146818a197d715e1baff1": {
          "model_module": "@jupyter-widgets/base",
          "model_name": "LayoutModel",
          "model_module_version": "1.2.0",
          "state": {
            "_view_name": "LayoutView",
            "grid_template_rows": null,
            "right": null,
            "justify_content": null,
            "_view_module": "@jupyter-widgets/base",
            "overflow": null,
            "_model_module_version": "1.2.0",
            "_view_count": null,
            "flex_flow": null,
            "width": null,
            "min_width": null,
            "border": null,
            "align_items": null,
            "bottom": null,
            "_model_module": "@jupyter-widgets/base",
            "top": null,
            "grid_column": null,
            "overflow_y": null,
            "overflow_x": null,
            "grid_auto_flow": null,
            "grid_area": null,
            "grid_template_columns": null,
            "flex": null,
            "_model_name": "LayoutModel",
            "justify_items": null,
            "grid_row": null,
            "max_height": null,
            "align_content": null,
            "visibility": null,
            "align_self": null,
            "height": null,
            "min_height": null,
            "padding": null,
            "grid_auto_rows": null,
            "grid_gap": null,
            "max_width": null,
            "order": null,
            "_view_module_version": "1.2.0",
            "grid_template_areas": null,
            "object_position": null,
            "object_fit": null,
            "grid_auto_columns": null,
            "margin": null,
            "display": null,
            "left": null
          }
        },
        "4c1aa522671648a4b0456eaf7dae47f3": {
          "model_module": "@jupyter-widgets/controls",
          "model_name": "DescriptionStyleModel",
          "model_module_version": "1.5.0",
          "state": {
            "_view_name": "StyleView",
            "_model_name": "DescriptionStyleModel",
            "description_width": "",
            "_view_module": "@jupyter-widgets/base",
            "_model_module_version": "1.5.0",
            "_view_count": null,
            "_view_module_version": "1.2.0",
            "_model_module": "@jupyter-widgets/controls"
          }
        },
        "95e2026e6675491f94f644357404bc9f": {
          "model_module": "@jupyter-widgets/base",
          "model_name": "LayoutModel",
          "model_module_version": "1.2.0",
          "state": {
            "_view_name": "LayoutView",
            "grid_template_rows": null,
            "right": null,
            "justify_content": null,
            "_view_module": "@jupyter-widgets/base",
            "overflow": null,
            "_model_module_version": "1.2.0",
            "_view_count": null,
            "flex_flow": null,
            "width": null,
            "min_width": null,
            "border": null,
            "align_items": null,
            "bottom": null,
            "_model_module": "@jupyter-widgets/base",
            "top": null,
            "grid_column": null,
            "overflow_y": null,
            "overflow_x": null,
            "grid_auto_flow": null,
            "grid_area": null,
            "grid_template_columns": null,
            "flex": null,
            "_model_name": "LayoutModel",
            "justify_items": null,
            "grid_row": null,
            "max_height": null,
            "align_content": null,
            "visibility": null,
            "align_self": null,
            "height": null,
            "min_height": null,
            "padding": null,
            "grid_auto_rows": null,
            "grid_gap": null,
            "max_width": null,
            "order": null,
            "_view_module_version": "1.2.0",
            "grid_template_areas": null,
            "object_position": null,
            "object_fit": null,
            "grid_auto_columns": null,
            "margin": null,
            "display": null,
            "left": null
          }
        }
      }
    }
  },
  "cells": [
    {
      "cell_type": "code",
      "metadata": {
        "id": "eSucWfPCireD"
      },
      "source": [
        "import torch\n",
        "import torch.nn as nn\n",
        "import torchvision as tv\n",
        "import torch.nn.functional as F\n",
        "from torchvision import transforms as T\n",
        "from torch.utils.data import DataLoader,Dataset\n",
        "from torchvision.datasets import Caltech256,VOCDetection\n",
        "from torchvision.models import vgg16,alexnet,resnet50\n",
        "from tqdm import tqdm"
      ],
      "execution_count": 1,
      "outputs": []
    },
    {
      "cell_type": "code",
      "metadata": {
        "colab": {
          "base_uri": "https://localhost:8080/"
        },
        "id": "6SgHHfUPrEoj",
        "outputId": "e2db77b7-faa5-471d-b191-3311ac694783"
      },
      "source": [
        "!wget http://pjreddie.com/media/files/VOCtrainval_11-May-2012.tar\n",
        "!tar -xf /content/VOCtrainval_11-May-2012.tar"
      ],
      "execution_count": 2,
      "outputs": [
        {
          "output_type": "stream",
          "name": "stdout",
          "text": [
            "--2021-11-29 09:45:43--  http://pjreddie.com/media/files/VOCtrainval_11-May-2012.tar\n",
            "Resolving pjreddie.com (pjreddie.com)... 128.208.4.108\n",
            "Connecting to pjreddie.com (pjreddie.com)|128.208.4.108|:80... connected.\n",
            "HTTP request sent, awaiting response... 301 Moved Permanently\n",
            "Location: https://pjreddie.com/media/files/VOCtrainval_11-May-2012.tar [following]\n",
            "--2021-11-29 09:45:43--  https://pjreddie.com/media/files/VOCtrainval_11-May-2012.tar\n",
            "Connecting to pjreddie.com (pjreddie.com)|128.208.4.108|:443... connected.\n",
            "HTTP request sent, awaiting response... 200 OK\n",
            "Length: 1999639040 (1.9G) [application/octet-stream]\n",
            "Saving to: ‘VOCtrainval_11-May-2012.tar’\n",
            "\n",
            "VOCtrainval_11-May- 100%[===================>]   1.86G  57.9MB/s    in 34s     \n",
            "\n",
            "2021-11-29 09:46:18 (55.9 MB/s) - ‘VOCtrainval_11-May-2012.tar’ saved [1999639040/1999639040]\n",
            "\n"
          ]
        }
      ]
    },
    {
      "cell_type": "code",
      "metadata": {
        "id": "dr2O4YcY1tAj"
      },
      "source": [
        "import os\n",
        "unique_labels = [i[:-10] for i in os.listdir('/content/VOCdevkit/VOC2012/ImageSets/Main') if i.endswith('_train.txt')]\n",
        "class2lab = {i:v for i,v in enumerate(unique_labels)}\n",
        "lab2class = {v:i for i,v in class2lab.items()}"
      ],
      "execution_count": 3,
      "outputs": []
    },
    {
      "cell_type": "code",
      "metadata": {
        "colab": {
          "base_uri": "https://localhost:8080/",
          "height": 118,
          "referenced_widgets": [
            "c64561abb3604cec9bdafba4f1966906",
            "5d592c7561644f22a7229571d528ff93",
            "4eaae6224bed437e8a8b1e03b1394420",
            "978dc8bfdc2541d683ddd336977d2586",
            "9e26a648933645e0a1d2a8fdb38cf6fe",
            "0671c1c5a7884275a088fcd53ca9386f",
            "5a69f984eb0946c3bb0e380185c12f3c",
            "979e81af8f3b43a196f0271aff676338",
            "3d6e2486c9f04faf9b97a037b177ce8b",
            "dcddc67842ac4842a9e2f0091aae8549",
            "76ee512c071640a79e3498f669933211"
          ]
        },
        "id": "zPdBjENckXRO",
        "outputId": "0d59f4a7-4c51-4d75-cd85-639d6bf85535"
      },
      "source": [
        "#pascal[0][1]['annotation']['object'][0]['name']\n",
        "\n",
        "\n",
        "class DS(Dataset):\n",
        "  def __init__(self,pascal,is_train=True):\n",
        "    self.pascal = pascal\n",
        "    self.is_train= is_train\n",
        "    mean=[0.457342265910642, 0.4387686270106377, 0.4073427106250871]\n",
        "    std=[0.26753769276329037, 0.2638145880487105, 0.2776826934044154]\n",
        "\n",
        "    self.transforms_train =  T.Compose([T.Resize((224, 224)),\n",
        "#                                      T.RandomChoice([\n",
        "#                                              T.CenterCrop(300),\n",
        "#                                              T.RandomResizedCrop(300, scale=(0.80, 1.0)),\n",
        "#                                              ]),                                      \n",
        "                                      T.RandomChoice([\n",
        "                                          T.ColorJitter(brightness=(0.80, 1.20)),\n",
        "                                          T.RandomGrayscale(p = 0.25)\n",
        "                                          ]),\n",
        "                                      T.RandomHorizontalFlip(p = 0.25),\n",
        "                                      T.RandomRotation(25),\n",
        "                                      T.ToTensor(), \n",
        "                                      T.Normalize(mean = mean, std = std),\n",
        "                                      ])\n",
        "    self.transforms_valid = T.Compose([T.Resize(330), \n",
        "                                          T.CenterCrop(300), \n",
        "                                          T.ToTensor(), \n",
        "                                          T.Normalize(mean = mean, std = std),\n",
        "                                          ])\n",
        "    \n",
        "    self.transforms = self.transforms_train if self.is_train else self.transforms_valid\n",
        "\n",
        "  def __getitem__(self,idx):\n",
        "    img,label = self.pascal[idx]\n",
        "    return self.transforms(img),lab2class[label['annotation']['object'][0]['name']]\n",
        "\n",
        "  def __len__(self):\n",
        "    return len(self.pascal)\n",
        "\n",
        "\n",
        "train_ds = DS(VOCDetection('nowhere',year = '2012',image_set ='train',download=True))\n",
        "# valid_ds = DS(VOCDetection('nowhere',year = '2012',image_set ='trainval',download=True),False)\n",
        "test_ds = DS(VOCDetection('nowhere',year = '2012',image_set ='val',download=True),False)"
      ],
      "execution_count": 4,
      "outputs": [
        {
          "output_type": "stream",
          "name": "stdout",
          "text": [
            "Downloading http://host.robots.ox.ac.uk/pascal/VOC/voc2012/VOCtrainval_11-May-2012.tar to nowhere/VOCtrainval_11-May-2012.tar\n"
          ]
        },
        {
          "output_type": "display_data",
          "data": {
            "application/vnd.jupyter.widget-view+json": {
              "model_id": "c64561abb3604cec9bdafba4f1966906",
              "version_minor": 0,
              "version_major": 2
            },
            "text/plain": [
              "  0%|          | 0/1999639040 [00:00<?, ?it/s]"
            ]
          },
          "metadata": {}
        },
        {
          "output_type": "stream",
          "name": "stdout",
          "text": [
            "Extracting nowhere/VOCtrainval_11-May-2012.tar to nowhere\n",
            "Using downloaded and verified file: nowhere/VOCtrainval_11-May-2012.tar\n",
            "Extracting nowhere/VOCtrainval_11-May-2012.tar to nowhere\n"
          ]
        }
      ]
    },
    {
      "cell_type": "code",
      "metadata": {
        "id": "6nLng-PEt16c"
      },
      "source": [
        "batch_size =32\n",
        "train_loader = DataLoader(train_ds,batch_size,shuffle=True)\n",
        "# valid_loader = DataLoader(valid_ds,batch_size,shuffle=False)\n",
        "test_loader = DataLoader(test_ds,batch_size,shuffle=False)"
      ],
      "execution_count": 5,
      "outputs": []
    },
    {
      "cell_type": "code",
      "metadata": {
        "id": "_JGELq9bqbqX"
      },
      "source": [
        "def train_one_step(model,inputs,labels,loss_fn,optimizer,device):\n",
        "    model.train()\n",
        "    optimizer.zero_grad()\n",
        "    inputs,labels = inputs.to(device),labels.to(device)\n",
        "    y_pred = model(inputs)\n",
        "    loss = loss_fn(y_pred,labels)\n",
        "    loss.backward()\n",
        "    optimizer.step()\n",
        "    return loss.item()\n",
        "\n",
        "def validate_one_step(model,inputs,labels,loss_fn,device):\n",
        "    model.eval()\n",
        "    with torch.no_grad():\n",
        "        inputs,labels = inputs.to(device),labels.to(device)\n",
        "        y_pred = model(inputs)\n",
        "        loss = loss_fn(y_pred,labels)\n",
        "        return loss.item()"
      ],
      "execution_count": 6,
      "outputs": []
    },
    {
      "cell_type": "code",
      "metadata": {
        "id": "amzdD6vZukaQ"
      },
      "source": [
        "def validate(model,validation_loader,loss_fn,device):\n",
        "    val_loss =0\n",
        "    for batch in validation_loader:\n",
        "        inputs,labels = batch\n",
        "        val_loss+=validate_one_step(model,inputs,labels,loss_fn,device)\n",
        "    val_loss = val_loss/len(validation_loader)\n",
        "    return val_loss\n",
        "\n",
        "def train(model,num_epochs,train_loader,validation_loader=None,loss_fn=None,optimizer=None,device=None,path=''):\n",
        "    loss_history=[]\n",
        "    val_loss_history =[]\n",
        "    for epoch in range(1,num_epochs+1):\n",
        "        loss = 0\n",
        "        for batch in tqdm(train_loader,desc = f'Epoch {epoch}'):\n",
        "            inputs,labels = batch\n",
        "            loss+=train_one_step(model,inputs,labels,loss_fn,optimizer,device)\n",
        "        loss = loss/len(train_loader)\n",
        "        loss_history.append(loss)\n",
        "        \n",
        "        if validation_loader is not None:\n",
        "            val_loss = validate(model,validation_loader,loss_fn,device)\n",
        "            print(f'At the end of epoch {epoch} Training Loss is {loss}. Validation loss is {val_loss}')\n",
        "            val_loss_history.append(val_loss)\n",
        "        else:\n",
        "            print(f'At the end of epoch {epoch} Training Loss is {loss}')\n",
        "        if epoch%5==0:\n",
        "            save_cnn(model,path+'/model_state/'+str(epoch)+'.pth')\n",
        "            model.to(device)\n",
        "    if validation_loader is None:\n",
        "        return loss_history\n",
        "    return loss_history,val_loss_history\n",
        "        "
      ],
      "execution_count": 7,
      "outputs": []
    },
    {
      "cell_type": "code",
      "metadata": {
        "id": "Hq8MCR3PuLQ9"
      },
      "source": [
        "import numpy as np\n",
        "def get_preds(model,validation_loader,device):\n",
        "    true_labels =[]\n",
        "    pred_labels =[]\n",
        "    model.eval()\n",
        "\n",
        "    with torch.no_grad():\n",
        "      for batch in tqdm(validation_loader):\n",
        "          inputs,labels = batch\n",
        "          inputs = inputs.to(device)\n",
        "          y_pred = model(inputs).detach().cpu().numpy()\n",
        "          pred_labels.extend(np.argmax(y_pred,axis=1).tolist())\n",
        "          true_labels.extend(labels.tolist())\n",
        "\n",
        "    return np.array(true_labels),np.array(pred_labels) \n",
        "\n",
        "from sklearn.metrics import classification_report"
      ],
      "execution_count": 8,
      "outputs": []
    },
    {
      "cell_type": "markdown",
      "metadata": {
        "id": "Qawd5cfZ55S9"
      },
      "source": [
        "# VGG"
      ]
    },
    {
      "cell_type": "code",
      "metadata": {
        "colab": {
          "base_uri": "https://localhost:8080/",
          "height": 66,
          "referenced_widgets": [
            "6de3fabb300b4f4793efd6b8eeef861f",
            "1eda38ec07a741c48fbbdc811b33e590",
            "0b1834fa3fc14913a58807dd0c4a2800",
            "2ebbe409727b47d5991f92b11a621a6d",
            "dc423e9873814d8a98963aa467ee7c00",
            "29e7db01134c48529505a7e0c8f3c235",
            "4aa6c3e15bd84171a547b294531ed9d8",
            "e0b9ea17b1114c6e94d62f301c2f2b2d",
            "fef0738cb8c9482996daf1f148daba37",
            "16ae5ecc078e43fba3174e0b9660382e",
            "d29c7e3fe9694471bf6bd5f738853384"
          ]
        },
        "id": "wL5U3QbB56qo",
        "outputId": "60c268a1-fc4f-4d49-be00-f37d90470c67"
      },
      "source": [
        "vgg = vgg16(pretrained=True)"
      ],
      "execution_count": 9,
      "outputs": [
        {
          "output_type": "stream",
          "name": "stderr",
          "text": [
            "Downloading: \"https://download.pytorch.org/models/vgg16-397923af.pth\" to /root/.cache/torch/hub/checkpoints/vgg16-397923af.pth\n"
          ]
        },
        {
          "output_type": "display_data",
          "data": {
            "application/vnd.jupyter.widget-view+json": {
              "model_id": "6de3fabb300b4f4793efd6b8eeef861f",
              "version_minor": 0,
              "version_major": 2
            },
            "text/plain": [
              "  0%|          | 0.00/528M [00:00<?, ?B/s]"
            ]
          },
          "metadata": {}
        }
      ]
    },
    {
      "cell_type": "code",
      "metadata": {
        "id": "7puIcYt8qPE-"
      },
      "source": [
        "for i in vgg.features:\n",
        "  i.requires_grad = False\n",
        "for i in vgg.classifier[:-1]:\n",
        "  i.requires_grad = False\n",
        "vgg.classifier[-1] = nn.Linear(4096, len(class2lab))"
      ],
      "execution_count": 10,
      "outputs": []
    },
    {
      "cell_type": "code",
      "metadata": {
        "colab": {
          "base_uri": "https://localhost:8080/"
        },
        "id": "c8M5hDS23z2j",
        "outputId": "3321b823-7c5f-4838-fc45-26cb373d6444"
      },
      "source": [
        "device = torch.device('cuda' if torch.cuda.is_available() else 'cpu')\n",
        "from torch.optim import Adam\n",
        "optimizer = Adam(filter(lambda p: p.requires_grad, vgg.parameters()),lr=1e-4)\n",
        "loss_fn = nn.CrossEntropyLoss()\n",
        "print('Using ',device)\n",
        "vgg.to(device)\n",
        "!mkdir vgg\n",
        "!mkdir vgg/model_state"
      ],
      "execution_count": 11,
      "outputs": [
        {
          "output_type": "stream",
          "name": "stdout",
          "text": [
            "Using  cuda\n"
          ]
        }
      ]
    },
    {
      "cell_type": "code",
      "metadata": {
        "id": "Y5IkVtKP4-3v"
      },
      "source": [
        "def save_cnn(model,path):\n",
        "    model.to(torch.device('cpu'))\n",
        "    torch.save(model.state_dict(), path)"
      ],
      "execution_count": 12,
      "outputs": []
    },
    {
      "cell_type": "code",
      "metadata": {
        "colab": {
          "base_uri": "https://localhost:8080/"
        },
        "id": "d8SeXCsZ4eNT",
        "outputId": "608b462e-3bc1-4f4a-9ce4-846c6ae81537"
      },
      "source": [
        "from tqdm import tqdm\n",
        "l,vl = train(vgg,10,train_loader,test_loader,loss_fn,optimizer,device,'/content/vgg')"
      ],
      "execution_count": 13,
      "outputs": [
        {
          "output_type": "stream",
          "name": "stderr",
          "text": [
            "Epoch 1: 100%|██████████| 179/179 [04:10<00:00,  1.40s/it]\n"
          ]
        },
        {
          "output_type": "stream",
          "name": "stdout",
          "text": [
            "At the end of epoch 1 Training Loss is 1.6287146770088365. Validation loss is 1.2983472910556164\n"
          ]
        },
        {
          "output_type": "stream",
          "name": "stderr",
          "text": [
            "Epoch 2: 100%|██████████| 179/179 [04:06<00:00,  1.38s/it]\n"
          ]
        },
        {
          "output_type": "stream",
          "name": "stdout",
          "text": [
            "At the end of epoch 2 Training Loss is 1.1060727145418774. Validation loss is 1.1164562646504288\n"
          ]
        },
        {
          "output_type": "stream",
          "name": "stderr",
          "text": [
            "Epoch 3: 100%|██████████| 179/179 [04:06<00:00,  1.38s/it]\n"
          ]
        },
        {
          "output_type": "stream",
          "name": "stdout",
          "text": [
            "At the end of epoch 3 Training Loss is 0.8839371747144774. Validation loss is 1.154131157385124\n"
          ]
        },
        {
          "output_type": "stream",
          "name": "stderr",
          "text": [
            "Epoch 4: 100%|██████████| 179/179 [04:06<00:00,  1.38s/it]\n"
          ]
        },
        {
          "output_type": "stream",
          "name": "stdout",
          "text": [
            "At the end of epoch 4 Training Loss is 0.768342396483741. Validation loss is 1.0068823071299018\n"
          ]
        },
        {
          "output_type": "stream",
          "name": "stderr",
          "text": [
            "Epoch 5: 100%|██████████| 179/179 [04:04<00:00,  1.37s/it]\n"
          ]
        },
        {
          "output_type": "stream",
          "name": "stdout",
          "text": [
            "At the end of epoch 5 Training Loss is 0.6579579341344993. Validation loss is 1.0714488805650355\n"
          ]
        },
        {
          "output_type": "stream",
          "name": "stderr",
          "text": [
            "Epoch 6: 100%|██████████| 179/179 [04:04<00:00,  1.37s/it]\n"
          ]
        },
        {
          "output_type": "stream",
          "name": "stdout",
          "text": [
            "At the end of epoch 6 Training Loss is 0.5566337134418541. Validation loss is 1.1573675114374895\n"
          ]
        },
        {
          "output_type": "stream",
          "name": "stderr",
          "text": [
            "Epoch 7: 100%|██████████| 179/179 [04:04<00:00,  1.37s/it]\n"
          ]
        },
        {
          "output_type": "stream",
          "name": "stdout",
          "text": [
            "At the end of epoch 7 Training Loss is 0.4622227253194628. Validation loss is 1.1534134157738842\n"
          ]
        },
        {
          "output_type": "stream",
          "name": "stderr",
          "text": [
            "Epoch 8: 100%|██████████| 179/179 [04:03<00:00,  1.36s/it]\n"
          ]
        },
        {
          "output_type": "stream",
          "name": "stdout",
          "text": [
            "At the end of epoch 8 Training Loss is 0.4060914685856031. Validation loss is 1.2937746899468558\n"
          ]
        },
        {
          "output_type": "stream",
          "name": "stderr",
          "text": [
            "Epoch 9: 100%|██████████| 179/179 [04:04<00:00,  1.37s/it]\n"
          ]
        },
        {
          "output_type": "stream",
          "name": "stdout",
          "text": [
            "At the end of epoch 9 Training Loss is 0.3508710890758637. Validation loss is 1.4123887516312548\n"
          ]
        },
        {
          "output_type": "stream",
          "name": "stderr",
          "text": [
            "Epoch 10: 100%|██████████| 179/179 [04:03<00:00,  1.36s/it]\n"
          ]
        },
        {
          "output_type": "stream",
          "name": "stdout",
          "text": [
            "At the end of epoch 10 Training Loss is 0.31358523179865416. Validation loss is 1.42562169950087\n"
          ]
        }
      ]
    },
    {
      "cell_type": "code",
      "metadata": {
        "colab": {
          "base_uri": "https://localhost:8080/",
          "height": 265
        },
        "id": "qM02H1t45FFL",
        "outputId": "da886c98-17ef-4248-c0fd-ffcbfe62713c"
      },
      "source": [
        "import matplotlib.pyplot as plt\n",
        "plt.plot(l,'r-',label='Training loss')\n",
        "plt.plot(vl,'b-',label ='Validation Loss')\n",
        "plt.legend()\n",
        "plt.show()"
      ],
      "execution_count": 14,
      "outputs": [
        {
          "output_type": "display_data",
          "data": {
            "image/png": "[encoded data removed]",
            "text/plain": [
              "<Figure size 432x288 with 1 Axes>"
            ]
          },
          "metadata": {
            "needs_background": "light"
          }
        }
      ]
    },
    {
      "cell_type": "code",
      "metadata": {
        "colab": {
          "base_uri": "https://localhost:8080/"
        },
        "id": "Y0VkIIHM5LKg",
        "outputId": "c44f968f-c379-4f76-d500-556c37c41bb1"
      },
      "source": [
        "train_true,train_pred =  get_preds(vgg,train_loader,device)\n",
        "\n",
        "print('Training Report')\n",
        "print(classification_report(train_true,train_pred))\n",
        "\n",
        "test_true,test_pred = get_preds(vgg,test_loader,device)\n",
        "print('Testing Report')\n",
        "print(classification_report(test_true,test_pred))"
      ],
      "execution_count": 15,
      "outputs": [
        {
          "output_type": "stream",
          "name": "stderr",
          "text": [
            "100%|██████████| 179/179 [01:38<00:00,  1.81it/s]\n"
          ]
        },
        {
          "output_type": "stream",
          "name": "stdout",
          "text": [
            "Training Report\n",
            "              precision    recall  f1-score   support\n",
            "\n",
            "           0       0.88      0.92      0.90       129\n",
            "           1       0.92      0.96      0.94       148\n",
            "           2       0.95      0.96      0.96       216\n",
            "           3       0.82      0.95      0.88       202\n",
            "           4       0.93      0.86      0.89       262\n",
            "           5       0.96      0.96      0.96       377\n",
            "           6       1.00      0.90      0.95       579\n",
            "           7       0.98      0.87      0.92       136\n",
            "           8       0.97      0.96      0.96       189\n",
            "           9       0.94      0.88      0.91       173\n",
            "          10       1.00      0.82      0.90       221\n",
            "          11       0.93      0.97      0.95       211\n",
            "          12       0.93      1.00      0.96       249\n",
            "          13       0.89      0.95      0.92       872\n",
            "          14       0.97      0.89      0.93       368\n",
            "          15       0.79      0.99      0.88       163\n",
            "          16       0.99      0.96      0.97       495\n",
            "          17       0.94      0.97      0.95       209\n",
            "          18       0.96      0.98      0.97       196\n",
            "          19       0.98      0.98      0.98       322\n",
            "\n",
            "    accuracy                           0.94      5717\n",
            "   macro avg       0.94      0.94      0.93      5717\n",
            "weighted avg       0.94      0.94      0.94      5717\n",
            "\n"
          ]
        },
        {
          "output_type": "stream",
          "name": "stderr",
          "text": [
            "100%|██████████| 182/182 [03:30<00:00,  1.16s/it]"
          ]
        },
        {
          "output_type": "stream",
          "name": "stdout",
          "text": [
            "Testing Report\n",
            "              precision    recall  f1-score   support\n",
            "\n",
            "           0       0.32      0.22      0.26       128\n",
            "           1       0.66      0.53      0.59       150\n",
            "           2       0.72      0.70      0.71       210\n",
            "           3       0.35      0.43      0.38       167\n",
            "           4       0.43      0.36      0.39       265\n",
            "           5       0.76      0.89      0.82       354\n",
            "           6       0.91      0.57      0.70       591\n",
            "           7       0.61      0.38      0.47       124\n",
            "           8       0.83      0.81      0.82       186\n",
            "           9       0.57      0.47      0.52       196\n",
            "          10       0.86      0.45      0.59       215\n",
            "          11       0.76      0.78      0.77       192\n",
            "          12       0.63      0.89      0.74       246\n",
            "          13       0.55      0.76      0.64       979\n",
            "          14       0.75      0.54      0.63       391\n",
            "          15       0.47      0.81      0.59       150\n",
            "          16       0.83      0.78      0.80       512\n",
            "          17       0.69      0.70      0.70       227\n",
            "          18       0.74      0.67      0.70       214\n",
            "          19       0.87      0.87      0.87       326\n",
            "\n",
            "    accuracy                           0.67      5823\n",
            "   macro avg       0.67      0.63      0.63      5823\n",
            "weighted avg       0.69      0.67      0.67      5823\n",
            "\n"
          ]
        },
        {
          "output_type": "stream",
          "name": "stderr",
          "text": [
            "\n"
          ]
        }
      ]
    },
    {
      "cell_type": "markdown",
      "metadata": {
        "id": "772jn_2w10rh"
      },
      "source": [
        "# AlexNet"
      ]
    },
    {
      "cell_type": "code",
      "metadata": {
        "colab": {
          "base_uri": "https://localhost:8080/",
          "height": 66,
          "referenced_widgets": [
            "472b83eaeaef469c87b1a17ca28e1327",
            "aa8389ee6b16435a8801c5bafb9c49f3",
            "718f3c9b740e465f9e5295a2074948a2",
            "2078d5f74ad94580bed564b1eb943b1c",
            "3f795c39e6684c59a841bdeee8e99e2e",
            "8fabf4022de1469f98c977a78ca7e350",
            "c6851593260342a99fffd48418c4c0e1",
            "344396ba1cff48f1800843ea39abd593",
            "1c9bca181ca146818a197d715e1baff1",
            "4c1aa522671648a4b0456eaf7dae47f3",
            "95e2026e6675491f94f644357404bc9f"
          ]
        },
        "id": "EO-zlxFduLCP",
        "outputId": "1e84cd54-55ec-4ad0-cb45-5aeb3bd2e747"
      },
      "source": [
        "an = alexnet(pretrained=True)\n",
        "for i in an.features:\n",
        "  i.requires_grad = False\n",
        "for i in an.classifier[:-1]:\n",
        "  i.requires_grad = False\n",
        "an.classifier[-1] = nn.Linear(4096, len(class2lab))"
      ],
      "execution_count": 16,
      "outputs": [
        {
          "output_type": "stream",
          "name": "stderr",
          "text": [
            "Downloading: \"https://download.pytorch.org/models/alexnet-owt-7be5be79.pth\" to /root/.cache/torch/hub/checkpoints/alexnet-owt-7be5be79.pth\n"
          ]
        },
        {
          "output_type": "display_data",
          "data": {
            "application/vnd.jupyter.widget-view+json": {
              "model_id": "472b83eaeaef469c87b1a17ca28e1327",
              "version_minor": 0,
              "version_major": 2
            },
            "text/plain": [
              "  0%|          | 0.00/233M [00:00<?, ?B/s]"
            ]
          },
          "metadata": {}
        }
      ]
    },
    {
      "cell_type": "code",
      "metadata": {
        "colab": {
          "base_uri": "https://localhost:8080/"
        },
        "id": "7jOjSC5MySHy",
        "outputId": "e9afc453-d73f-47af-ce30-e0839fd28231"
      },
      "source": [
        "optimizer = Adam(filter(lambda p: p.requires_grad, an.parameters()),lr=1e-4)\n",
        "loss_fn = nn.CrossEntropyLoss()\n",
        "print('Using ',device)\n",
        "an.to(device)\n",
        "!mkdir an\n",
        "!mkdir an/model_state"
      ],
      "execution_count": 17,
      "outputs": [
        {
          "output_type": "stream",
          "name": "stdout",
          "text": [
            "Using  cuda\n"
          ]
        }
      ]
    },
    {
      "cell_type": "code",
      "metadata": {
        "colab": {
          "base_uri": "https://localhost:8080/"
        },
        "id": "-szEhBNMycfC",
        "outputId": "871435f3-fcea-44f7-8ce8-0d8d8870fc1d"
      },
      "source": [
        "l,vl = train(an,10,train_loader,test_loader,loss_fn,optimizer,device,'/content/an')"
      ],
      "execution_count": 18,
      "outputs": [
        {
          "output_type": "stream",
          "name": "stderr",
          "text": [
            "Epoch 1: 100%|██████████| 179/179 [01:08<00:00,  2.62it/s]\n"
          ]
        },
        {
          "output_type": "stream",
          "name": "stdout",
          "text": [
            "At the end of epoch 1 Training Loss is 1.762964610946911. Validation loss is 1.323081007370582\n"
          ]
        },
        {
          "output_type": "stream",
          "name": "stderr",
          "text": [
            "Epoch 2: 100%|██████████| 179/179 [01:08<00:00,  2.63it/s]\n"
          ]
        },
        {
          "output_type": "stream",
          "name": "stdout",
          "text": [
            "At the end of epoch 2 Training Loss is 1.3067066276539638. Validation loss is 1.2974078838641827\n"
          ]
        },
        {
          "output_type": "stream",
          "name": "stderr",
          "text": [
            "Epoch 3: 100%|██████████| 179/179 [01:08<00:00,  2.63it/s]\n"
          ]
        },
        {
          "output_type": "stream",
          "name": "stdout",
          "text": [
            "At the end of epoch 3 Training Loss is 1.1337214102292195. Validation loss is 1.2523201229153098\n"
          ]
        },
        {
          "output_type": "stream",
          "name": "stderr",
          "text": [
            "Epoch 4: 100%|██████████| 179/179 [01:07<00:00,  2.64it/s]\n"
          ]
        },
        {
          "output_type": "stream",
          "name": "stdout",
          "text": [
            "At the end of epoch 4 Training Loss is 1.0129207855496327. Validation loss is 1.2449274066385332\n"
          ]
        },
        {
          "output_type": "stream",
          "name": "stderr",
          "text": [
            "Epoch 5: 100%|██████████| 179/179 [01:07<00:00,  2.66it/s]\n"
          ]
        },
        {
          "output_type": "stream",
          "name": "stdout",
          "text": [
            "At the end of epoch 5 Training Loss is 0.8798662652183511. Validation loss is 1.3821510194422124\n"
          ]
        },
        {
          "output_type": "stream",
          "name": "stderr",
          "text": [
            "Epoch 6: 100%|██████████| 179/179 [01:07<00:00,  2.65it/s]\n"
          ]
        },
        {
          "output_type": "stream",
          "name": "stdout",
          "text": [
            "At the end of epoch 6 Training Loss is 0.7767259327060018. Validation loss is 1.3471985930924888\n"
          ]
        },
        {
          "output_type": "stream",
          "name": "stderr",
          "text": [
            "Epoch 7: 100%|██████████| 179/179 [01:07<00:00,  2.66it/s]\n"
          ]
        },
        {
          "output_type": "stream",
          "name": "stdout",
          "text": [
            "At the end of epoch 7 Training Loss is 0.6898596135264669. Validation loss is 1.3361836226431878\n"
          ]
        },
        {
          "output_type": "stream",
          "name": "stderr",
          "text": [
            "Epoch 8: 100%|██████████| 179/179 [01:08<00:00,  2.62it/s]\n"
          ]
        },
        {
          "output_type": "stream",
          "name": "stdout",
          "text": [
            "At the end of epoch 8 Training Loss is 0.6042637745095365. Validation loss is 1.345932778093841\n"
          ]
        },
        {
          "output_type": "stream",
          "name": "stderr",
          "text": [
            "Epoch 9: 100%|██████████| 179/179 [01:08<00:00,  2.62it/s]\n"
          ]
        },
        {
          "output_type": "stream",
          "name": "stdout",
          "text": [
            "At the end of epoch 9 Training Loss is 0.5403955538845595. Validation loss is 1.4633477484131907\n"
          ]
        },
        {
          "output_type": "stream",
          "name": "stderr",
          "text": [
            "Epoch 10: 100%|██████████| 179/179 [01:10<00:00,  2.53it/s]\n"
          ]
        },
        {
          "output_type": "stream",
          "name": "stdout",
          "text": [
            "At the end of epoch 10 Training Loss is 0.44913184234882864. Validation loss is 1.5197265667247248\n"
          ]
        }
      ]
    },
    {
      "cell_type": "code",
      "metadata": {
        "colab": {
          "base_uri": "https://localhost:8080/",
          "height": 265
        },
        "id": "0e97XaJoyjU3",
        "outputId": "830be5e7-968b-4147-f005-b348dee67483"
      },
      "source": [
        "import matplotlib.pyplot as plt\n",
        "plt.plot(l,'r-',label='Training loss')\n",
        "plt.plot(vl,'b-',label ='Validation Loss')\n",
        "plt.legend()\n",
        "plt.show()"
      ],
      "execution_count": 19,
      "outputs": [
        {
          "output_type": "display_data",
          "data": {
            "image/png": "[encoded data removed]",
            "text/plain": [
              "<Figure size 432x288 with 1 Axes>"
            ]
          },
          "metadata": {
            "needs_background": "light"
          }
        }
      ]
    },
    {
      "cell_type": "code",
      "metadata": {
        "colab": {
          "base_uri": "https://localhost:8080/"
        },
        "id": "UmWB387QzIuz",
        "outputId": "570b3dd6-8e97-4e99-d2b8-2e33fe8f6441"
      },
      "source": [
        "train_true,train_pred = get_preds(an,train_loader,device)\n",
        "\n",
        "print('Training Report')\n",
        "print(classification_report(train_true,train_pred))\n",
        "\n",
        "test_true,test_pred = get_preds(an,test_loader,device)\n",
        "print('Testing Report')\n",
        "print(classification_report(test_true,test_pred))"
      ],
      "execution_count": 20,
      "outputs": [
        {
          "output_type": "stream",
          "name": "stderr",
          "text": [
            "100%|██████████| 179/179 [00:58<00:00,  3.08it/s]\n"
          ]
        },
        {
          "output_type": "stream",
          "name": "stdout",
          "text": [
            "Training Report\n",
            "              precision    recall  f1-score   support\n",
            "\n",
            "           0       0.80      0.91      0.86       129\n",
            "           1       0.94      0.89      0.92       148\n",
            "           2       0.99      0.89      0.94       216\n",
            "           3       0.84      0.92      0.88       202\n",
            "           4       0.88      0.87      0.88       262\n",
            "           5       0.98      0.96      0.97       377\n",
            "           6       0.98      0.93      0.96       579\n",
            "           7       0.92      0.88      0.89       136\n",
            "           8       0.87      0.97      0.92       189\n",
            "           9       0.96      0.78      0.86       173\n",
            "          10       0.97      0.92      0.94       221\n",
            "          11       0.97      0.92      0.94       211\n",
            "          12       0.96      0.95      0.95       249\n",
            "          13       0.86      0.96      0.90       872\n",
            "          14       0.93      0.90      0.92       368\n",
            "          15       0.95      0.94      0.95       163\n",
            "          16       0.97      0.97      0.97       495\n",
            "          17       0.92      0.94      0.93       209\n",
            "          18       0.97      0.87      0.92       196\n",
            "          19       0.98      0.98      0.98       322\n",
            "\n",
            "    accuracy                           0.93      5717\n",
            "   macro avg       0.93      0.92      0.92      5717\n",
            "weighted avg       0.93      0.93      0.93      5717\n",
            "\n"
          ]
        },
        {
          "output_type": "stream",
          "name": "stderr",
          "text": [
            "100%|██████████| 182/182 [01:08<00:00,  2.66it/s]"
          ]
        },
        {
          "output_type": "stream",
          "name": "stdout",
          "text": [
            "Testing Report\n",
            "              precision    recall  f1-score   support\n",
            "\n",
            "           0       0.27      0.24      0.26       128\n",
            "           1       0.59      0.31      0.41       150\n",
            "           2       0.65      0.49      0.56       210\n",
            "           3       0.32      0.41      0.36       167\n",
            "           4       0.41      0.35      0.37       265\n",
            "           5       0.66      0.76      0.71       354\n",
            "           6       0.80      0.53      0.64       591\n",
            "           7       0.39      0.46      0.42       124\n",
            "           8       0.69      0.78      0.73       186\n",
            "           9       0.69      0.32      0.44       196\n",
            "          10       0.77      0.51      0.61       215\n",
            "          11       0.68      0.42      0.52       192\n",
            "          12       0.79      0.64      0.71       246\n",
            "          13       0.52      0.73      0.61       979\n",
            "          14       0.53      0.49      0.51       391\n",
            "          15       0.75      0.57      0.65       150\n",
            "          16       0.62      0.85      0.72       512\n",
            "          17       0.59      0.61      0.60       227\n",
            "          18       0.69      0.48      0.57       214\n",
            "          19       0.74      0.87      0.80       326\n",
            "\n",
            "    accuracy                           0.60      5823\n",
            "   macro avg       0.61      0.54      0.56      5823\n",
            "weighted avg       0.62      0.60      0.59      5823\n",
            "\n"
          ]
        },
        {
          "output_type": "stream",
          "name": "stderr",
          "text": [
            "\n"
          ]
        }
      ]
    },
    {
      "cell_type": "markdown",
      "metadata": {
        "id": "4CbeJnNT13zM"
      },
      "source": [
        "# ResNet"
      ]
    },
    {
      "cell_type": "code",
      "metadata": {
        "id": "DGgJE-5Kzp7E"
      },
      "source": [
        "rn = resnet50(pretrained=True)\n",
        "for i in rn.parameters():\n",
        "  i.requires_grad=False\n",
        "rn.fc = nn.Linear(in_features=rn.fc.in_features, out_features=len(class2lab))"
      ],
      "execution_count": 27,
      "outputs": []
    },
    {
      "cell_type": "code",
      "metadata": {
        "colab": {
          "base_uri": "https://localhost:8080/"
        },
        "id": "VFTK7tPB1gqE",
        "outputId": "dd590cac-0e19-415d-a85c-777b5a494836"
      },
      "source": [
        "optimizer = Adam(filter(lambda p: p.requires_grad, rn.parameters()),lr=1e-4)\n",
        "loss_fn = nn.CrossEntropyLoss()\n",
        "print('Using ',device)\n",
        "rn.to(device)\n",
        "!mkdir rn\n",
        "!mkdir rn/model_state"
      ],
      "execution_count": 28,
      "outputs": [
        {
          "output_type": "stream",
          "name": "stdout",
          "text": [
            "Using  cuda\n",
            "mkdir: cannot create directory ‘rn’: File exists\n",
            "mkdir: cannot create directory ‘rn/model_state’: File exists\n"
          ]
        }
      ]
    },
    {
      "cell_type": "code",
      "metadata": {
        "colab": {
          "base_uri": "https://localhost:8080/"
        },
        "id": "w2DC_0X-0S0b",
        "outputId": "8a73b23f-8696-4491-a903-e45dbd8744eb"
      },
      "source": [
        "l,vl = train(rn,50,train_loader,test_loader,loss_fn,optimizer,device,'/content/rn')"
      ],
      "execution_count": null,
      "outputs": [
        {
          "output_type": "stream",
          "name": "stderr",
          "text": [
            "Epoch 1: 100%|██████████| 179/179 [01:31<00:00,  1.95it/s]\n"
          ]
        },
        {
          "output_type": "stream",
          "name": "stdout",
          "text": [
            "At the end of epoch 1 Training Loss is 2.4370659956052982. Validation loss is 2.155931458368406\n"
          ]
        },
        {
          "output_type": "stream",
          "name": "stderr",
          "text": [
            "Epoch 2: 100%|██████████| 179/179 [01:26<00:00,  2.07it/s]\n"
          ]
        },
        {
          "output_type": "stream",
          "name": "stdout",
          "text": [
            "At the end of epoch 2 Training Loss is 1.8393634797474525. Validation loss is 1.732920221575014\n"
          ]
        },
        {
          "output_type": "stream",
          "name": "stderr",
          "text": [
            "Epoch 3: 100%|██████████| 179/179 [01:27<00:00,  2.05it/s]\n"
          ]
        },
        {
          "output_type": "stream",
          "name": "stdout",
          "text": [
            "At the end of epoch 3 Training Loss is 1.5185146398384477. Validation loss is 1.4773540018679021\n"
          ]
        },
        {
          "output_type": "stream",
          "name": "stderr",
          "text": [
            "Epoch 4: 100%|██████████| 179/179 [01:27<00:00,  2.04it/s]\n"
          ]
        },
        {
          "output_type": "stream",
          "name": "stdout",
          "text": [
            "At the end of epoch 4 Training Loss is 1.3450454130519036. Validation loss is 1.3244005549740006\n"
          ]
        },
        {
          "output_type": "stream",
          "name": "stderr",
          "text": [
            "Epoch 5: 100%|██████████| 179/179 [01:25<00:00,  2.08it/s]\n"
          ]
        },
        {
          "output_type": "stream",
          "name": "stdout",
          "text": [
            "At the end of epoch 5 Training Loss is 1.2263547528389447. Validation loss is 1.2312133682298136\n"
          ]
        },
        {
          "output_type": "stream",
          "name": "stderr",
          "text": [
            "Epoch 6: 100%|██████████| 179/179 [01:27<00:00,  2.04it/s]\n"
          ]
        },
        {
          "output_type": "stream",
          "name": "stdout",
          "text": [
            "At the end of epoch 6 Training Loss is 1.1547651856971186. Validation loss is 1.1594520217769748\n"
          ]
        },
        {
          "output_type": "stream",
          "name": "stderr",
          "text": [
            "Epoch 7: 100%|██████████| 179/179 [01:27<00:00,  2.04it/s]\n"
          ]
        }
      ]
    },
    {
      "cell_type": "code",
      "metadata": {
        "colab": {
          "base_uri": "https://localhost:8080/",
          "height": 265
        },
        "id": "c56aHv951orr",
        "outputId": "d4d02353-39da-481b-8add-09e102fcf39c"
      },
      "source": [
        "import matplotlib.pyplot as plt\n",
        "plt.plot(l,'r-',label='Training loss')\n",
        "plt.plot(vl,'b-',label ='Validation Loss')\n",
        "plt.legend()\n",
        "plt.show()"
      ],
      "execution_count": 24,
      "outputs": [
        {
          "output_type": "display_data",
          "data": {
            "image/png": "[encoded data removed]",
            "text/plain": [
              "<Figure size 432x288 with 1 Axes>"
            ]
          },
          "metadata": {
            "needs_background": "light"
          }
        }
      ]
    },
    {
      "cell_type": "code",
      "metadata": {
        "colab": {
          "base_uri": "https://localhost:8080/"
        },
        "id": "aVEHqd1U5n5V",
        "outputId": "b0fe9e35-40ba-4633-dd7a-4d194f7e4cbd"
      },
      "source": [
        "train_true,train_pred = get_preds(rn,train_loader,device)\n",
        "\n",
        "print('Training Report')\n",
        "print(classification_report(train_true,train_pred))\n",
        "\n",
        "test_true,test_pred = get_preds(rn,test_loader,device)\n",
        "print('Testing Report')\n",
        "print(classification_report(test_true,test_pred))"
      ],
      "execution_count": 25,
      "outputs": [
        {
          "output_type": "stream",
          "name": "stderr",
          "text": [
            "100%|██████████| 179/179 [01:26<00:00,  2.08it/s]\n"
          ]
        },
        {
          "output_type": "stream",
          "name": "stdout",
          "text": [
            "Training Report\n",
            "              precision    recall  f1-score   support\n",
            "\n",
            "           0       0.54      0.34      0.42       129\n",
            "           1       0.77      0.58      0.66       148\n",
            "           2       0.83      0.69      0.75       216\n",
            "           3       0.48      0.39      0.43       202\n",
            "           4       0.51      0.37      0.43       262\n",
            "           5       0.79      0.88      0.83       377\n",
            "           6       0.85      0.85      0.85       579\n",
            "           7       0.75      0.43      0.54       136\n",
            "           8       0.85      0.77      0.81       189\n",
            "           9       0.59      0.43      0.50       173\n",
            "          10       0.69      0.83      0.75       221\n",
            "          11       0.79      0.71      0.75       211\n",
            "          12       0.83      0.81      0.82       249\n",
            "          13       0.53      0.73      0.62       872\n",
            "          14       0.69      0.74      0.72       368\n",
            "          15       0.82      0.74      0.78       163\n",
            "          16       0.89      0.88      0.89       495\n",
            "          17       0.80      0.76      0.78       209\n",
            "          18       0.65      0.63      0.64       196\n",
            "          19       0.91      0.86      0.88       322\n",
            "\n",
            "    accuracy                           0.72      5717\n",
            "   macro avg       0.73      0.67      0.69      5717\n",
            "weighted avg       0.73      0.72      0.72      5717\n",
            "\n"
          ]
        },
        {
          "output_type": "stream",
          "name": "stderr",
          "text": [
            "100%|██████████| 182/182 [02:13<00:00,  1.36it/s]"
          ]
        },
        {
          "output_type": "stream",
          "name": "stdout",
          "text": [
            "Testing Report\n",
            "              precision    recall  f1-score   support\n",
            "\n",
            "           0       0.44      0.22      0.29       128\n",
            "           1       0.82      0.69      0.75       150\n",
            "           2       0.78      0.60      0.68       210\n",
            "           3       0.56      0.59      0.57       167\n",
            "           4       0.56      0.40      0.46       265\n",
            "           5       0.82      0.93      0.87       354\n",
            "           6       0.84      0.86      0.85       591\n",
            "           7       0.67      0.52      0.58       124\n",
            "           8       0.92      0.87      0.89       186\n",
            "           9       0.77      0.55      0.64       196\n",
            "          10       0.78      0.80      0.79       215\n",
            "          11       0.79      0.78      0.78       192\n",
            "          12       0.90      0.82      0.86       246\n",
            "          13       0.56      0.82      0.66       979\n",
            "          14       0.85      0.73      0.78       391\n",
            "          15       0.87      0.77      0.82       150\n",
            "          16       0.94      0.91      0.93       512\n",
            "          17       0.86      0.72      0.78       227\n",
            "          18       0.83      0.69      0.75       214\n",
            "          19       0.94      0.84      0.89       326\n",
            "\n",
            "    accuracy                           0.76      5823\n",
            "   macro avg       0.77      0.70      0.73      5823\n",
            "weighted avg       0.77      0.76      0.76      5823\n",
            "\n"
          ]
        },
        {
          "output_type": "stream",
          "name": "stderr",
          "text": [
            "\n"
          ]
        }
      ]
    },
    {
      "cell_type": "code",
      "metadata": {
        "id": "zzMd8b2b6NOm"
      },
      "source": [
        "   "
      ],
      "execution_count": null,
      "outputs": []
    }
  ]
}